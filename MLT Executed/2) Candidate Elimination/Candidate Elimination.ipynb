{
 "cells": [
  {
   "cell_type": "code",
   "execution_count": 1,
   "id": "2dae0ac9",
   "metadata": {},
   "outputs": [],
   "source": [
    "import csv\n"
   ]
  },
  {
   "cell_type": "code",
   "execution_count": 2,
   "id": "1f9c9e53",
   "metadata": {},
   "outputs": [
    {
     "name": "stdout",
     "output_type": "stream",
     "text": [
      "[['Sunny', 'Warm', 'Normal', 'Strong', 'Warm', 'Same', 'Yes'], ['Sunny', 'Warm', 'High', 'Strong', 'Warm', 'Same', 'Yes'], ['Rainy', 'Cold', 'High', 'Strong', 'Warm', 'Change', 'No'], ['Sunny', 'Warm', 'High', 'Strong', 'Cold', 'Change', 'Yes']]\n"
     ]
    }
   ],
   "source": [
    "a=[]\n",
    "with open(\"1.csv\",\"r\") as csvfile:\n",
    "    next(csvfile)\n",
    "    for row in csv.reader(csvfile):\n",
    "        a.append(row)\n",
    "    print(a)"
   ]
  },
  {
   "cell_type": "code",
   "execution_count": 3,
   "id": "9c35f185",
   "metadata": {},
   "outputs": [],
   "source": [
    "num_att=len(a[0])-1"
   ]
  },
  {
   "cell_type": "code",
   "execution_count": 4,
   "id": "9dcbbec1",
   "metadata": {},
   "outputs": [
    {
     "name": "stdout",
     "output_type": "stream",
     "text": [
      "['0', '0', '0', '0', '0', '0']\n",
      "['?', '?', '?', '?', '?', '?']\n"
     ]
    }
   ],
   "source": [
    "s=['0']*num_att\n",
    "g=['?']*num_att\n",
    "print(s)\n",
    "print(g)"
   ]
  },
  {
   "cell_type": "code",
   "execution_count": 5,
   "id": "b7a3d78d",
   "metadata": {},
   "outputs": [
    {
     "name": "stdout",
     "output_type": "stream",
     "text": [
      "['Sunny', 'Warm', 'Normal', 'Strong', 'Warm', 'Same']\n",
      "['?', '?', '?', '?', '?', '?']\n"
     ]
    }
   ],
   "source": [
    "temp=[]\n",
    "for i in range(0,num_att):\n",
    "    s[i]=a[0][i]\n",
    "print(s)\n",
    "print(g)"
   ]
  },
  {
   "cell_type": "code",
   "execution_count": 6,
   "id": "193bbd28",
   "metadata": {},
   "outputs": [],
   "source": [
    "for i in range(1,len(a)):\n",
    "    if a[i][num_att]=='yes':\n",
    "        for j in range(0,num_att):\n",
    "            if s[j]!=a[i][j]:\n",
    "                s[j]='?'"
   ]
  },
  {
   "cell_type": "code",
   "execution_count": 8,
   "id": "513dfd07",
   "metadata": {},
   "outputs": [],
   "source": [
    "for j in range(0,num_att):\n",
    "            for k in range(0,len(temp)):\n",
    "                if s[j]!=temp[k][j] and temp[k][j]!='?':\n",
    "                    del temp[k]"
   ]
  },
  {
   "cell_type": "code",
   "execution_count": 9,
   "id": "439da0ca",
   "metadata": {},
   "outputs": [],
   "source": [
    "if a[i][num_att]=='no':\n",
    "        for j in range(0,num_att):\n",
    "            if a[i][j]!=s[j] and s[j]!='?':\n",
    "                g[j]=s[j]\n",
    "                temp.append(g)\n",
    "                g=['?']*num_att"
   ]
  },
  {
   "cell_type": "code",
   "execution_count": 17,
   "id": "099b0889",
   "metadata": {
    "scrolled": false
   },
   "outputs": [
    {
     "name": "stdout",
     "output_type": "stream",
     "text": [
      "['?', '?', '?', '?', '?', '?']\n",
      "['Sunny', 'Warm', 'Normal', 'Strong', 'Warm', 'Same']\n"
     ]
    }
   ],
   "source": [
    "if len(temp)==0:\n",
    "    print(g)\n",
    "else:\n",
    "    print(temp)\n",
    "print(s)"
   ]
  }
 ],
 "metadata": {
  "kernelspec": {
   "display_name": "Python 3 (ipykernel)",
   "language": "python",
   "name": "python3"
  },
  "language_info": {
   "codemirror_mode": {
    "name": "ipython",
    "version": 3
   },
   "file_extension": ".py",
   "mimetype": "text/x-python",
   "name": "python",
   "nbconvert_exporter": "python",
   "pygments_lexer": "ipython3",
   "version": "3.9.7"
  }
 },
 "nbformat": 4,
 "nbformat_minor": 5
}
