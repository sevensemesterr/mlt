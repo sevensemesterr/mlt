{
 "cells": [
  {
   "cell_type": "code",
   "execution_count": 1,
   "metadata": {},
   "outputs": [],
   "source": [
    "import pandas as pd\n",
    "import numpy as np"
   ]
  },
  {
   "cell_type": "code",
   "execution_count": 2,
   "metadata": {},
   "outputs": [
    {
     "name": "stdout",
     "output_type": "stream",
     "text": [
      "['yes', 'yes', 'no', 'yes']\n",
      "1 hypothesis ['Sunny', 'Warm', 'Normal', 'Strong', 'Warm', 'Same']\n",
      "2 hypothesis ['Sunny', 'Warm', '?', 'Strong', 'Warm', 'Same']\n",
      "3 hypothesis ['Sunny', 'Warm', '?', 'Strong', 'Warm', 'Same']\n",
      "4 hypothesis ['Sunny', 'Warm', '?', 'Strong', '?', '?']\n",
      "final hypothesis ['Sunny', 'Warm', '?', 'Strong', '?', '?']\n"
     ]
    }
   ],
   "source": [
    "file = pd.read_csv('weather.csv')\n",
    "\n",
    "attributes = ['sky','aiirtemp', 'humidity', 'wind', 'water', 'forecast']\n",
    "\n",
    "num_of_attributes = len(attributes)\n",
    "\n",
    "target = ['yes','yes','no','yes']\n",
    "\n",
    "print(target)\n",
    "\n",
    "hypothesis = ['0']*num_of_attributes\n",
    "\n",
    "for i in range(len(target)) :\n",
    "    if target[i] == 'yes':\n",
    "        for x in range(num_of_attributes):\n",
    "            if(hypothesis[x] == '0'):\n",
    "                hypothesis[x] = file.iloc[i,x]\n",
    "            if(hypothesis[x]!=file.iloc[i,x]):\n",
    "                hypothesis[x] = '?'\n",
    "    print(i+1, \"hypothesis\", hypothesis)\n",
    "    \n",
    "print(\"final hypothesis\", hypothesis)"
   ]
  },
  {
   "cell_type": "code",
   "execution_count": null,
   "metadata": {},
   "outputs": [],
   "source": []
  }
 ],
 "metadata": {
  "kernelspec": {
   "display_name": "Python 3 (ipykernel)",
   "language": "python",
   "name": "python3"
  },
  "language_info": {
   "codemirror_mode": {
    "name": "ipython",
    "version": 3
   },
   "file_extension": ".py",
   "mimetype": "text/x-python",
   "name": "python",
   "nbconvert_exporter": "python",
   "pygments_lexer": "ipython3",
   "version": "3.9.7"
  }
 },
 "nbformat": 4,
 "nbformat_minor": 2
}
